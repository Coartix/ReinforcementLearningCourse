{
 "cells": [
  {
   "cell_type": "markdown",
   "metadata": {},
   "source": [
    "Hugo Deplagne"
   ]
  },
  {
   "cell_type": "markdown",
   "metadata": {},
   "source": [
    "# Deep Q-Learning using PyTorch and OpenAI Gym to play Breakout"
   ]
  },
  {
   "cell_type": "code",
   "execution_count": 1,
   "metadata": {},
   "outputs": [
    {
     "data": {
      "text/plain": [
       "device(type='cuda')"
      ]
     },
     "execution_count": 1,
     "metadata": {},
     "output_type": "execute_result"
    }
   ],
   "source": [
    "import gym\n",
    "import numpy as np\n",
    "import torch\n",
    "import torch.nn as nn\n",
    "import torch.optim as optim\n",
    "from DQN_torch import DQN\n",
    "from ReplayBuffer import ReplayBuffer\n",
    "from create_video import create_video\n",
    "from preprocess import CustomWrapper\n",
    "\n",
    "# Check if GPU is available\n",
    "device = torch.device(\"cuda\" if torch.cuda.is_available() else \"cpu\")\n",
    "device"
   ]
  },
  {
   "cell_type": "code",
   "execution_count": 2,
   "metadata": {},
   "outputs": [
    {
     "name": "stderr",
     "output_type": "stream",
     "text": [
      "A.L.E: Arcade Learning Environment (version 0.8.1+53f58b7)\n",
      "[Powered by Stella]\n"
     ]
    }
   ],
   "source": [
    "env = gym.make('BreakoutNoFrameskip-v4', render_mode='rgb_array')\n",
    "# Preprocess the environment (important if you want luminance to put grayscale as False)\n",
    "env = CustomWrapper(env, noop_max=30, frame_skip=4, screen_size=84, luminance_obs=True, grayscale_obs=False)\n",
    "# Stack 4 frames\n",
    "env = gym.wrappers.FrameStack(env, 4)"
   ]
  },
  {
   "cell_type": "markdown",
   "metadata": {},
   "source": [
    "Let's see what a state looks like:"
   ]
  },
  {
   "cell_type": "code",
   "execution_count": 3,
   "metadata": {},
   "outputs": [
    {
     "name": "stdout",
     "output_type": "stream",
     "text": [
      "Image shape:  (4, 84, 84)\n",
      "Image type:  uint8\n"
     ]
    },
    {
     "data": {
      "text/plain": [
       "<matplotlib.image.AxesImage at 0x7f186970e9e0>"
      ]
     },
     "execution_count": 3,
     "metadata": {},
     "output_type": "execute_result"
    },
    {
     "data": {
      "image/png": "[encoded data removed]",
      "text/plain": [
       "<Figure size 640x480 with 1 Axes>"
      ]
     },
     "metadata": {},
     "output_type": "display_data"
    }
   ],
   "source": [
    "env.reset()\n",
    "img, _, _, _, _ = env.step(0)\n",
    "print('Image shape: ', img.shape)\n",
    "print('Image type: ', img.dtype)\n",
    "\n",
    "import matplotlib.pyplot as plt\n",
    "plt.imshow(img[0], cmap='gray')"
   ]
  },
  {
   "cell_type": "markdown",
   "metadata": {},
   "source": [
    "The state dimensions:"
   ]
  },
  {
   "cell_type": "code",
   "execution_count": 4,
   "metadata": {},
   "outputs": [
    {
     "name": "stdout",
     "output_type": "stream",
     "text": [
      "State shape:  Box(0, 255, (4, 84, 84), uint8)\n",
      "Number of actions:  4\n"
     ]
    }
   ],
   "source": [
    "state_dim = env.observation_space.shape\n",
    "num_actions = env.action_space.n\n",
    "\n",
    "print('State shape: ', env.observation_space)\n",
    "print('Number of actions: ', num_actions)"
   ]
  },
  {
   "cell_type": "markdown",
   "metadata": {},
   "source": [
    "#### Now we create the model set the parameters and train the model"
   ]
  },
  {
   "cell_type": "code",
   "execution_count": 5,
   "metadata": {},
   "outputs": [
    {
     "data": {
      "text/plain": [
       "DQN(\n",
       "  (conv1): Conv2d(4, 32, kernel_size=(8, 8), stride=(4, 4))\n",
       "  (conv2): Conv2d(32, 64, kernel_size=(4, 4), stride=(2, 2))\n",
       "  (conv3): Conv2d(64, 64, kernel_size=(3, 3), stride=(1, 1))\n",
       "  (fc1): Linear(in_features=3136, out_features=512, bias=True)\n",
       "  (fc2): Linear(in_features=512, out_features=4, bias=True)\n",
       ")"
      ]
     },
     "execution_count": 5,
     "metadata": {},
     "output_type": "execute_result"
    }
   ],
   "source": [
    "# Instantiate the Q-network model and target model\n",
    "model = DQN((4,84,84), num_actions).to(device)\n",
    "model_target = DQN((4,84,84), num_actions).to(device)\n",
    "model_target.load_state_dict(model.state_dict())\n",
    "model"
   ]
  },
  {
   "cell_type": "markdown",
   "metadata": {},
   "source": [
    "Model architecture same as deep mind article.  \n",
    "As well as following variables."
   ]
  },
  {
   "cell_type": "code",
   "execution_count": 6,
   "metadata": {},
   "outputs": [],
   "source": [
    "# Define other parameters and hyperparameters\n",
    "gamma = 0.99\n",
    "epsilon = 1.0\n",
    "epsilon_min = 0.1\n",
    "epsilon_max = 1.0\n",
    "epsilon_interval = epsilon_max - epsilon_min\n",
    "batch_size = 32\n",
    "max_steps_per_episode = 10000\n",
    "max_memory_length = 100000\n",
    "replay_buffer = ReplayBuffer(device, max_memory_length)\n",
    "optimizer = optim.Adam(model.parameters(), lr=0.00025)\n",
    "loss_function = nn.HuberLoss()\n",
    "\n",
    "episode_reward_history = np.array([])\n",
    "running_reward = 0\n",
    "episode_count = 0\n",
    "frame_count = 0\n",
    "epsilon_random_frames = 50000\n",
    "epsilon_greedy_frames = 1000000.0\n",
    "update_target_network = 10000\n",
    "\n",
    "reward_history = np.array([])\n",
    "frame_count_history = np.array([])\n",
    "epsilon_history = np.array([])\n",
    "best_reward = 0"
   ]
  },
  {
   "cell_type": "code",
   "execution_count": 7,
   "metadata": {},
   "outputs": [
    {
     "name": "stdout",
     "output_type": "stream",
     "text": [
      "Episode 0 reward: 1.0 frame_count: 180 epsilon: 0.9998380000000053 memory size: 180\n",
      "Episode 10 reward: 0.6363636363636364 frame_count: 1788 epsilon: 0.998390800000053 memory size: 1788\n",
      "Episode 20 reward: 0.5238095238095238 frame_count: 3298 epsilon: 0.9970318000000977 memory size: 3298\n",
      "Episode 30 reward: 0.6774193548387096 frame_count: 5099 epsilon: 0.9954109000001511 memory size: 5099\n",
      "Episode 40 reward: 0.8292682926829268 frame_count: 6975 epsilon: 0.9937225000002067 memory size: 6975\n",
      "Episode 50 reward: 1.1176470588235294 frame_count: 9195 epsilon: 0.9917245000002725 memory size: 9195\n",
      "Episode 60 reward: 1.2950819672131149 frame_count: 11458 epsilon: 0.9896878000003395 memory size: 11458\n",
      "Episode 70 reward: 1.3943661971830985 frame_count: 13657 epsilon: 0.9877087000004047 memory size: 13657\n",
      "Episode 80 reward: 1.3209876543209877 frame_count: 15334 epsilon: 0.9861994000004544 memory size: 15334\n",
      "Episode 90 reward: 1.2637362637362637 frame_count: 17070 epsilon: 0.9846370000005058 memory size: 17070\n",
      "Episode 100 reward: 1.3186813186813187 frame_count: 18881 epsilon: 0.9830071000005595 memory size: 18881\n",
      "Episode 110 reward: 1.5164835164835164 frame_count: 21118 epsilon: 0.9809938000006257 memory size: 21118\n",
      "Episode 120 reward: 1.5934065934065933 frame_count: 23036 epsilon: 0.9792676000006826 memory size: 23036\n",
      "Episode 130 reward: 1.6153846153846154 frame_count: 25042 epsilon: 0.977462200000742 memory size: 25042\n",
      "Episode 140 reward: 1.5164835164835164 frame_count: 26849 epsilon: 0.9758359000007956 memory size: 26849\n",
      "Episode 150 reward: 1.3626373626373627 frame_count: 28543 epsilon: 0.9743113000008458 memory size: 28543\n",
      "Episode 160 reward: 1.2527472527472527 frame_count: 30330 epsilon: 0.9727030000008987 memory size: 30330\n",
      "Episode 170 reward: 1.2527472527472527 frame_count: 32096 epsilon: 0.971113600000951 memory size: 32096\n",
      "Episode 180 reward: 1.3186813186813187 frame_count: 33952 epsilon: 0.969443200001006 memory size: 33952\n",
      "Episode 190 reward: 1.3186813186813187 frame_count: 35727 epsilon: 0.9678457000010586 memory size: 35727\n",
      "Episode 200 reward: 1.1758241758241759 frame_count: 37312 epsilon: 0.9664192000011056 memory size: 37312\n",
      "Episode 210 reward: 1.120879120879121 frame_count: 39369 epsilon: 0.9645679000011665 memory size: 39369\n",
      "Episode 220 reward: 1.1758241758241759 frame_count: 41616 epsilon: 0.9625456000012331 memory size: 41616\n",
      "Episode 230 reward: 1.2087912087912087 frame_count: 43588 epsilon: 0.9607708000012916 memory size: 43588\n",
      "Episode 240 reward: 1.3296703296703296 frame_count: 45737 epsilon: 0.9588367000013552 memory size: 45737\n",
      "Episode 250 reward: 1.3406593406593406 frame_count: 47613 epsilon: 0.9571483000014108 memory size: 47613\n",
      "Episode 260 reward: 1.5054945054945055 frame_count: 49772 epsilon: 0.9552052000014748 memory size: 49772\n",
      "Episode 270 reward: 1.4505494505494505 frame_count: 51430 epsilon: 0.9537130000015239 memory size: 51430\n",
      "Episode 280 reward: 1.4285714285714286 frame_count: 53073 epsilon: 0.9522343000015726 memory size: 53073\n",
      "Episode 290 reward: 1.5934065934065933 frame_count: 55332 epsilon: 0.9502012000016395 memory size: 55332\n",
      "Episode 300 reward: 1.5494505494505495 frame_count: 57204 epsilon: 0.948516400001695 memory size: 57204\n",
      "Episode 310 reward: 1.5604395604395604 frame_count: 59276 epsilon: 0.9466516000017564 memory size: 59276\n",
      "Episode 320 reward: 1.3956043956043955 frame_count: 60812 epsilon: 0.9452692000018019 memory size: 60812\n",
      "Episode 330 reward: 1.2747252747252746 frame_count: 62392 epsilon: 0.9438472000018487 memory size: 62392\n",
      "Episode 340 reward: 1.2747252747252746 frame_count: 64202 epsilon: 0.9422182000019024 memory size: 64202\n",
      "Episode 350 reward: 1.1318681318681318 frame_count: 65968 epsilon: 0.9406288000019547 memory size: 65968\n",
      "Episode 360 reward: 1.120879120879121 frame_count: 67647 epsilon: 0.9391177000020045 memory size: 67647\n",
      "Episode 370 reward: 1.2307692307692308 frame_count: 69638 epsilon: 0.9373258000020634 memory size: 69638\n",
      "Episode 380 reward: 1.1428571428571428 frame_count: 71606 epsilon: 0.9355546000021218 memory size: 71606\n",
      "Episode 390 reward: 1.098901098901099 frame_count: 73504 epsilon: 0.933846400002178 memory size: 73504\n",
      "Episode 400 reward: 1.032967032967033 frame_count: 75223 epsilon: 0.9322993000022289 memory size: 75223\n",
      "Episode 410 reward: 1.054945054945055 frame_count: 76980 epsilon: 0.930718000002281 memory size: 76980\n",
      "Episode 420 reward: 1.032967032967033 frame_count: 78490 epsilon: 0.9293590000023257 memory size: 78490\n",
      "Episode 430 reward: 1.010989010989011 frame_count: 80210 epsilon: 0.9278110000023767 memory size: 80210\n",
      "Episode 440 reward: 0.945054945054945 frame_count: 81793 epsilon: 0.9263863000024236 memory size: 81793\n",
      "Episode 450 reward: 0.989010989010989 frame_count: 83629 epsilon: 0.924733900002478 memory size: 83629\n",
      "Episode 460 reward: 0.9230769230769231 frame_count: 85374 epsilon: 0.9231634000025297 memory size: 85374\n",
      "Episode 470 reward: 0.945054945054945 frame_count: 87218 epsilon: 0.9215038000025844 memory size: 87218\n",
      "Episode 480 reward: 1.0 frame_count: 89145 epsilon: 0.9197695000026415 memory size: 89145\n",
      "Episode 490 reward: 1.0 frame_count: 91003 epsilon: 0.9180973000026965 memory size: 91003\n",
      "Episode 500 reward: 1.054945054945055 frame_count: 92964 epsilon: 0.9163324000027546 memory size: 92964\n",
      "Episode 510 reward: 1.120879120879121 frame_count: 94666 epsilon: 0.914800600002805 memory size: 94666\n",
      "Episode 520 reward: 1.1978021978021978 frame_count: 96642 epsilon: 0.9130222000028636 memory size: 96642\n",
      "Episode 530 reward: 1.2747252747252746 frame_count: 98537 epsilon: 0.9113167000029198 memory size: 98537\n",
      "Episode 540 reward: 1.2637362637362637 frame_count: 100233 epsilon: 0.90979030000297 memory size: 100000\n",
      "Episode 550 reward: 1.2527472527472527 frame_count: 102082 epsilon: 0.9081262000030248 memory size: 100000\n",
      "Episode 560 reward: 1.2197802197802199 frame_count: 103780 epsilon: 0.9065980000030751 memory size: 100000\n",
      "Episode 570 reward: 1.1538461538461537 frame_count: 105582 epsilon: 0.9049762000031285 memory size: 100000\n",
      "Episode 580 reward: 1.164835164835165 frame_count: 107427 epsilon: 0.9033157000031832 memory size: 100000\n",
      "Episode 590 reward: 1.0769230769230769 frame_count: 109089 epsilon: 0.9018199000032324 memory size: 100000\n",
      "Episode 600 reward: 1.0879120879120878 frame_count: 110985 epsilon: 0.9001135000032886 memory size: 100000\n",
      "Episode 610 reward: 0.967032967032967 frame_count: 112473 epsilon: 0.8987743000033327 memory size: 100000\n",
      "Episode 620 reward: 0.8681318681318682 frame_count: 114041 epsilon: 0.8973631000033792 memory size: 100000\n",
      "Episode 630 reward: 0.8021978021978022 frame_count: 115735 epsilon: 0.8958385000034293 memory size: 100000\n",
      "Episode 640 reward: 0.9120879120879121 frame_count: 117746 epsilon: 0.8940286000034889 memory size: 100000\n",
      "Episode 650 reward: 0.8901098901098901 frame_count: 119543 epsilon: 0.8924113000035422 memory size: 100000\n",
      "Episode 660 reward: 0.8791208791208791 frame_count: 121324 epsilon: 0.890808400003595 memory size: 100000\n",
      "Episode 670 reward: 0.9230769230769231 frame_count: 123195 epsilon: 0.8891245000036504 memory size: 100000\n",
      "Episode 680 reward: 0.8791208791208791 frame_count: 124878 epsilon: 0.8876098000037003 memory size: 100000\n",
      "Episode 690 reward: 0.9340659340659341 frame_count: 126842 epsilon: 0.8858422000037585 memory size: 100000\n",
      "Episode 700 reward: 1.0769230769230769 frame_count: 128822 epsilon: 0.8840602000038171 memory size: 100000\n",
      "Episode 710 reward: 1.1978021978021978 frame_count: 130813 epsilon: 0.8822683000038761 memory size: 100000\n",
      "Episode 720 reward: 1.3846153846153846 frame_count: 133125 epsilon: 0.8801875000039446 memory size: 100000\n",
      "Episode 730 reward: 1.2967032967032968 frame_count: 134810 epsilon: 0.8786710000039946 memory size: 100000\n",
      "Episode 740 reward: 1.5384615384615385 frame_count: 137146 epsilon: 0.8765686000040638 memory size: 100000\n",
      "Episode 750 reward: 1.6153846153846154 frame_count: 139381 epsilon: 0.87455710000413 memory size: 100000\n",
      "Episode 760 reward: 1.6923076923076923 frame_count: 141393 epsilon: 0.8727463000041896 memory size: 100000\n",
      "Episode 770 reward: 1.7912087912087913 frame_count: 143303 epsilon: 0.8710273000042462 memory size: 100000\n",
      "Episode 780 reward: 1.7142857142857142 frame_count: 145108 epsilon: 0.8694028000042997 memory size: 100000\n",
      "Episode 790 reward: 1.7362637362637363 frame_count: 147084 epsilon: 0.8676244000043583 memory size: 100000\n",
      "Episode 800 reward: 1.8021978021978022 frame_count: 149162 epsilon: 0.8657542000044198 memory size: 100000\n",
      "Episode 810 reward: 1.7032967032967032 frame_count: 151070 epsilon: 0.8640370000044764 memory size: 100000\n",
      "Episode 820 reward: 1.6593406593406594 frame_count: 152630 epsilon: 0.8626330000045226 memory size: 100000\n",
      "Episode 830 reward: 1.5274725274725274 frame_count: 154764 epsilon: 0.8607124000045858 memory size: 100000\n",
      "Episode 840 reward: 1.3736263736263736 frame_count: 156448 epsilon: 0.8591968000046357 memory size: 100000\n",
      "Episode 850 reward: 1.3406593406593406 frame_count: 158392 epsilon: 0.8574472000046933 memory size: 100000\n",
      "Episode 860 reward: 1.2967032967032968 frame_count: 160242 epsilon: 0.8557822000047481 memory size: 100000\n",
      "Episode 870 reward: 1.2527472527472527 frame_count: 161966 epsilon: 0.8542306000047992 memory size: 100000\n",
      "Episode 880 reward: 1.2417582417582418 frame_count: 163905 epsilon: 0.8524855000048567 memory size: 100000\n",
      "Episode 890 reward: 1.1538461538461537 frame_count: 165698 epsilon: 0.8508718000049098 memory size: 100000\n",
      "Episode 900 reward: 1.1978021978021978 frame_count: 167725 epsilon: 0.8490475000049699 memory size: 100000\n",
      "Episode 910 reward: 1.3296703296703296 frame_count: 169874 epsilon: 0.8471134000050335 memory size: 100000\n",
      "Episode 920 reward: 1.2307692307692308 frame_count: 171543 epsilon: 0.845611300005083 memory size: 100000\n",
      "Episode 930 reward: 1.2417582417582418 frame_count: 173281 epsilon: 0.8440471000051345 memory size: 100000\n",
      "Episode 940 reward: 1.4175824175824177 frame_count: 175896 epsilon: 0.841693600005212 memory size: 100000\n",
      "Episode 950 reward: 1.4725274725274726 frame_count: 177829 epsilon: 0.8399539000052693 memory size: 100000\n",
      "Episode 960 reward: 1.5164835164835164 frame_count: 179676 epsilon: 0.838291600005324 memory size: 100000\n",
      "Episode 970 reward: 1.5054945054945055 frame_count: 181508 epsilon: 0.8366428000053783 memory size: 100000\n",
      "Episode 980 reward: 1.5164835164835164 frame_count: 183246 epsilon: 0.8350786000054298 memory size: 100000\n",
      "Episode 990 reward: 1.4725274725274726 frame_count: 185249 epsilon: 0.8332759000054891 memory size: 100000\n",
      "Episode 1000 reward: 1.4065934065934067 frame_count: 187271 epsilon: 0.831456100005549 memory size: 100000\n",
      "Episode 1010 reward: 1.4395604395604396 frame_count: 189093 epsilon: 0.829816300005603 memory size: 100000\n",
      "Episode 1020 reward: 1.4285714285714286 frame_count: 190804 epsilon: 0.8282764000056537 memory size: 100000\n",
      "Episode 1030 reward: 1.3626373626373627 frame_count: 192820 epsilon: 0.8264620000057135 memory size: 100000\n",
      "Episode 1040 reward: 1.3076923076923077 frame_count: 194774 epsilon: 0.8247034000057714 memory size: 100000\n",
      "Episode 1050 reward: 1.2637362637362637 frame_count: 196353 epsilon: 0.8232823000058181 memory size: 100000\n",
      "Episode 1060 reward: 1.2197802197802199 frame_count: 197972 epsilon: 0.8218252000058661 memory size: 100000\n",
      "Episode 1070 reward: 1.2637362637362637 frame_count: 199953 epsilon: 0.8200423000059248 memory size: 100000\n",
      "Episode 1080 reward: 1.1868131868131868 frame_count: 201707 epsilon: 0.8184637000059768 memory size: 100000\n",
      "Episode 1090 reward: 1.1428571428571428 frame_count: 203479 epsilon: 0.8168689000060293 memory size: 100000\n",
      "Episode 1100 reward: 1.1978021978021978 frame_count: 205473 epsilon: 0.8150743000060884 memory size: 100000\n",
      "Episode 1110 reward: 1.2307692307692308 frame_count: 207292 epsilon: 0.8134372000061423 memory size: 100000\n",
      "Episode 1120 reward: 1.2527472527472527 frame_count: 209356 epsilon: 0.8115796000062034 memory size: 100000\n",
      "Episode 1130 reward: 1.2307692307692308 frame_count: 211165 epsilon: 0.809951500006257 memory size: 100000\n",
      "Episode 1140 reward: 1.2197802197802199 frame_count: 212885 epsilon: 0.808403500006308 memory size: 100000\n",
      "Episode 1150 reward: 1.2967032967032968 frame_count: 214937 epsilon: 0.8065567000063688 memory size: 100000\n",
      "Episode 1160 reward: 1.3516483516483517 frame_count: 217106 epsilon: 0.8046046000064331 memory size: 100000\n",
      "Episode 1170 reward: 1.5054945054945055 frame_count: 219419 epsilon: 0.8025229000065016 memory size: 100000\n",
      "Episode 1180 reward: 1.6923076923076923 frame_count: 221871 epsilon: 0.8003161000065743 memory size: 100000\n",
      "Episode 1190 reward: 1.7252747252747254 frame_count: 223948 epsilon: 0.7984468000066358 memory size: 100000\n",
      "Episode 1200 reward: 1.7252747252747254 frame_count: 225866 epsilon: 0.7967206000066926 memory size: 100000\n",
      "Episode 1210 reward: 1.6703296703296704 frame_count: 227774 epsilon: 0.7950034000067492 memory size: 100000\n",
      "Episode 1220 reward: 1.7912087912087913 frame_count: 229979 epsilon: 0.7930189000068145 memory size: 100000\n",
      "Episode 1230 reward: 1.9230769230769231 frame_count: 232172 epsilon: 0.7910452000068795 memory size: 100000\n",
      "Episode 1240 reward: 1.9120879120879122 frame_count: 234210 epsilon: 0.7892110000069399 memory size: 100000\n",
      "Episode 1250 reward: 1.978021978021978 frame_count: 236411 epsilon: 0.7872301000070051 memory size: 100000\n",
      "Episode 1260 reward: 1.901098901098901 frame_count: 238351 epsilon: 0.7854841000070626 memory size: 100000\n",
      "Episode 1270 reward: 1.7362637362637363 frame_count: 240128 epsilon: 0.7838848000071152 memory size: 100000\n",
      "Episode 1280 reward: 1.7912087912087913 frame_count: 242591 epsilon: 0.7816681000071882 memory size: 100000\n",
      "Episode 1290 reward: 1.8131868131868132 frame_count: 244535 epsilon: 0.7799185000072458 memory size: 100000\n",
      "Episode 1300 reward: 2.010989010989011 frame_count: 247066 epsilon: 0.7776406000073208 memory size: 100000\n",
      "Episode 1310 reward: 1.989010989010989 frame_count: 249217 epsilon: 0.7757047000073846 memory size: 100000\n",
      "Episode 1320 reward: 1.9230769230769231 frame_count: 251184 epsilon: 0.7739344000074428 memory size: 100000\n",
      "Episode 1330 reward: 1.8681318681318682 frame_count: 253074 epsilon: 0.7722334000074988 memory size: 100000\n",
      "Episode 1340 reward: 1.7582417582417582 frame_count: 254963 epsilon: 0.7705333000075548 memory size: 100000\n",
      "Episode 1350 reward: 1.8461538461538463 frame_count: 257084 epsilon: 0.7686244000076177 memory size: 100000\n",
      "Episode 1360 reward: 2.0 frame_count: 259557 epsilon: 0.766398700007691 memory size: 100000\n",
      "Episode 1370 reward: 2.087912087912088 frame_count: 262170 epsilon: 0.7640470000077684 memory size: 100000\n",
      "Episode 1380 reward: 2.208791208791209 frame_count: 264564 epsilon: 0.7618924000078393 memory size: 100000\n",
      "Episode 1390 reward: 2.1538461538461537 frame_count: 266692 epsilon: 0.7599772000079024 memory size: 100000\n",
      "Episode 1400 reward: 2.1648351648351647 frame_count: 269067 epsilon: 0.7578397000079727 memory size: 100000\n",
      "Episode 1410 reward: 2.318681318681319 frame_count: 271650 epsilon: 0.7555150000080493 memory size: 100000\n",
      "Episode 1420 reward: 2.5494505494505493 frame_count: 274370 epsilon: 0.7530670000081299 memory size: 100000\n",
      "Episode 1430 reward: 2.769230769230769 frame_count: 277191 epsilon: 0.7505281000082135 memory size: 100000\n",
      "Episode 1440 reward: 2.8461538461538463 frame_count: 279786 epsilon: 0.7481926000082904 memory size: 100000\n",
      "Episode 1450 reward: 2.8461538461538463 frame_count: 282104 epsilon: 0.746106400008359 memory size: 100000\n",
      "Episode 1460 reward: 2.879120879120879 frame_count: 284713 epsilon: 0.7437583000084363 memory size: 100000\n",
      "Episode 1470 reward: 2.857142857142857 frame_count: 287254 epsilon: 0.7414714000085116 memory size: 100000\n",
      "Episode 1480 reward: 2.9450549450549453 frame_count: 289775 epsilon: 0.7392025000085863 memory size: 100000\n",
      "Episode 1490 reward: 3.043956043956044 frame_count: 292304 epsilon: 0.7369264000086613 memory size: 100000\n",
      "Episode 1500 reward: 3.1648351648351647 frame_count: 294890 epsilon: 0.7345990000087379 memory size: 100000\n",
      "Episode 1510 reward: 3.043956043956044 frame_count: 297412 epsilon: 0.7323292000088126 memory size: 100000\n",
      "Episode 1520 reward: 3.010989010989011 frame_count: 299900 epsilon: 0.7300900000088864 memory size: 100000\n",
      "Episode 1530 reward: 3.120879120879121 frame_count: 302603 epsilon: 0.7276573000089664 memory size: 100000\n",
      "Episode 1540 reward: 3.131868131868132 frame_count: 305110 epsilon: 0.7254010000090407 memory size: 100000\n",
      "Episode 1550 reward: 3.1648351648351647 frame_count: 307647 epsilon: 0.7231177000091159 memory size: 100000\n",
      "Episode 1560 reward: 3.065934065934066 frame_count: 309966 epsilon: 0.7210306000091846 memory size: 100000\n",
      "Episode 1570 reward: 3.098901098901099 frame_count: 312517 epsilon: 0.7187347000092602 memory size: 100000\n",
      "Episode 1580 reward: 3.142857142857143 frame_count: 315299 epsilon: 0.7162309000093426 memory size: 100000\n",
      "Episode 1590 reward: 3.197802197802198 frame_count: 318243 epsilon: 0.7135813000094299 memory size: 100000\n",
      "Episode 1600 reward: 3.318681318681319 frame_count: 320972 epsilon: 0.7111252000095107 memory size: 100000\n",
      "Episode 1610 reward: 3.4615384615384617 frame_count: 323703 epsilon: 0.7086673000095917 memory size: 100000\n",
      "Episode 1620 reward: 3.3626373626373627 frame_count: 326298 epsilon: 0.7063318000096686 memory size: 100000\n",
      "Episode 1630 reward: 3.5714285714285716 frame_count: 329410 epsilon: 0.7035310000097608 memory size: 100000\n",
      "Episode 1640 reward: 3.5274725274725274 frame_count: 331785 epsilon: 0.7013935000098311 memory size: 100000\n",
      "Episode 1650 reward: 3.6483516483516483 frame_count: 334518 epsilon: 0.6989338000099121 memory size: 100000\n",
      "Episode 1660 reward: 3.857142857142857 frame_count: 337638 epsilon: 0.6961258000100046 memory size: 100000\n",
      "Episode 1670 reward: 3.879120879120879 frame_count: 340535 epsilon: 0.6935185000100904 memory size: 100000\n",
      "Episode 1680 reward: 3.956043956043956 frame_count: 343500 epsilon: 0.6908500000101783 memory size: 100000\n",
      "Episode 1690 reward: 3.956043956043956 frame_count: 346299 epsilon: 0.6883309000102612 memory size: 100000\n",
      "Episode 1700 reward: 3.934065934065934 frame_count: 348922 epsilon: 0.6859702000103389 memory size: 100000\n",
      "Episode 1710 reward: 4.021978021978022 frame_count: 351902 epsilon: 0.6832882000104272 memory size: 100000\n",
      "Episode 1720 reward: 3.901098901098901 frame_count: 354755 epsilon: 0.6807205000105118 memory size: 100000\n",
      "Episode 1730 reward: 3.923076923076923 frame_count: 357377 epsilon: 0.6783607000105895 memory size: 100000\n",
      "Episode 1740 reward: 4.021978021978022 frame_count: 360422 epsilon: 0.6756202000106797 memory size: 100000\n",
      "Episode 1750 reward: 4.1208791208791204 frame_count: 363784 epsilon: 0.6725944000107793 memory size: 100000\n",
      "Episode 1760 reward: 4.043956043956044 frame_count: 366488 epsilon: 0.6701608000108594 memory size: 100000\n",
      "Episode 1770 reward: 3.989010989010989 frame_count: 369405 epsilon: 0.6675355000109459 memory size: 100000\n",
      "Episode 1780 reward: 3.901098901098901 frame_count: 371945 epsilon: 0.6652495000110211 memory size: 100000\n",
      "Episode 1790 reward: 3.923076923076923 frame_count: 374753 epsilon: 0.6627223000111043 memory size: 100000\n",
      "Episode 1800 reward: 3.8241758241758244 frame_count: 377505 epsilon: 0.6602455000111859 memory size: 100000\n",
      "Episode 1810 reward: 4.0 frame_count: 380894 epsilon: 0.6571954000112863 memory size: 100000\n",
      "Episode 1820 reward: 3.989010989010989 frame_count: 383258 epsilon: 0.6550678000113563 memory size: 100000\n",
      "Episode 1830 reward: 4.0 frame_count: 386582 epsilon: 0.6520762000114548 memory size: 100000\n",
      "Episode 1840 reward: 4.010989010989011 frame_count: 389984 epsilon: 0.6490144000115556 memory size: 100000\n",
      "Episode 1850 reward: 3.967032967032967 frame_count: 392451 epsilon: 0.6467941000116287 memory size: 100000\n",
      "Episode 1860 reward: 4.1098901098901095 frame_count: 395679 epsilon: 0.6438889000117244 memory size: 100000\n",
      "Episode 1870 reward: 4.34065934065934 frame_count: 398765 epsilon: 0.6411115000118158 memory size: 100000\n",
      "Episode 1880 reward: 4.43956043956044 frame_count: 401869 epsilon: 0.6383179000119078 memory size: 100000\n",
      "Episode 1890 reward: 4.626373626373627 frame_count: 405204 epsilon: 0.6353164000120066 memory size: 100000\n",
      "Episode 1900 reward: 4.5054945054945055 frame_count: 408049 epsilon: 0.6327559000120909 memory size: 100000\n",
      "Episode 1910 reward: 4.637362637362638 frame_count: 410854 epsilon: 0.630231400012174 memory size: 100000\n",
      "Episode 1920 reward: 4.604395604395604 frame_count: 413637 epsilon: 0.6277267000122565 memory size: 100000\n",
      "Episode 1930 reward: 4.483516483516484 frame_count: 416778 epsilon: 0.6248998000123496 memory size: 100000\n",
      "Episode 1940 reward: 4.637362637362638 frame_count: 419927 epsilon: 0.6220657000124429 memory size: 100000\n",
      "Episode 1950 reward: 4.5054945054945055 frame_count: 422589 epsilon: 0.6196699000125218 memory size: 100000\n",
      "Episode 1960 reward: 4.373626373626373 frame_count: 425476 epsilon: 0.6170716000126073 memory size: 100000\n",
      "Episode 1970 reward: 4.208791208791209 frame_count: 428057 epsilon: 0.6147487000126838 memory size: 100000\n",
      "Episode 1980 reward: 4.076923076923077 frame_count: 430945 epsilon: 0.6121495000127694 memory size: 100000\n",
      "Episode 1990 reward: 4.054945054945055 frame_count: 433720 epsilon: 0.6096520000128516 memory size: 100000\n",
      "Episode 2000 reward: 4.032967032967033 frame_count: 436513 epsilon: 0.6071383000129343 memory size: 100000\n",
      "Episode 2010 reward: 4.032967032967033 frame_count: 439590 epsilon: 0.6043690000130255 memory size: 100000\n",
      "Episode 2020 reward: 3.956043956043956 frame_count: 442344 epsilon: 0.6018904000131071 memory size: 100000\n",
      "Episode 2030 reward: 3.857142857142857 frame_count: 445257 epsilon: 0.5992687000131934 memory size: 100000\n",
      "Episode 2040 reward: 3.769230769230769 frame_count: 447681 epsilon: 0.5970871000132653 memory size: 100000\n",
      "Episode 2050 reward: 3.7142857142857144 frame_count: 450282 epsilon: 0.5947462000133423 memory size: 100000\n",
      "Episode 2060 reward: 3.758241758241758 frame_count: 453022 epsilon: 0.5922802000134235 memory size: 100000\n",
      "Episode 2070 reward: 3.8351648351648353 frame_count: 455902 epsilon: 0.5896882000135089 memory size: 100000\n",
      "Episode 2080 reward: 3.802197802197802 frame_count: 458734 epsilon: 0.5871394000135928 memory size: 100000\n",
      "Episode 2090 reward: 3.7252747252747254 frame_count: 461261 epsilon: 0.5848651000136676 memory size: 100000\n",
      "Episode 2100 reward: 3.6153846153846154 frame_count: 464040 epsilon: 0.58236400001375 memory size: 100000\n",
      "Episode 2110 reward: 3.67032967032967 frame_count: 466779 epsilon: 0.5798989000138312 memory size: 100000\n",
      "Episode 2120 reward: 3.67032967032967 frame_count: 469933 epsilon: 0.5770603000139246 memory size: 100000\n",
      "Episode 2130 reward: 3.8461538461538463 frame_count: 473034 epsilon: 0.5742694000140165 memory size: 100000\n",
      "Episode 2140 reward: 3.901098901098901 frame_count: 475823 epsilon: 0.5717593000140991 memory size: 100000\n",
      "Episode 2150 reward: 3.8131868131868134 frame_count: 478469 epsilon: 0.5693779000141775 memory size: 100000\n",
      "Episode 2160 reward: 3.7032967032967035 frame_count: 480877 epsilon: 0.5672107000142489 memory size: 100000\n",
      "Episode 2170 reward: 3.7362637362637363 frame_count: 483759 epsilon: 0.5646169000143343 memory size: 100000\n",
      "Episode 2180 reward: 3.8241758241758244 frame_count: 486451 epsilon: 0.562194100014414 memory size: 100000\n",
      "Episode 2190 reward: 3.879120879120879 frame_count: 489493 epsilon: 0.5594563000145042 memory size: 100000\n",
      "Episode 2200 reward: 3.879120879120879 frame_count: 492365 epsilon: 0.5568715000145893 memory size: 100000\n",
      "Episode 2210 reward: 3.78021978021978 frame_count: 495090 epsilon: 0.55441900001467 memory size: 100000\n",
      "Episode 2220 reward: 3.4945054945054945 frame_count: 497337 epsilon: 0.5523967000147366 memory size: 100000\n",
      "Episode 2230 reward: 3.32967032967033 frame_count: 500056 epsilon: 0.5499496000148172 memory size: 100000\n",
      "Episode 2240 reward: 3.318681318681319 frame_count: 502985 epsilon: 0.547313500014904 memory size: 100000\n",
      "Episode 2250 reward: 3.2527472527472527 frame_count: 505166 epsilon: 0.5453506000149686 memory size: 100000\n",
      "Episode 2260 reward: 2.978021978021978 frame_count: 507194 epsilon: 0.5435254000150287 memory size: 100000\n",
      "Episode 2270 reward: 2.901098901098901 frame_count: 509965 epsilon: 0.5410315000151108 memory size: 100000\n",
      "Episode 2280 reward: 2.5384615384615383 frame_count: 511954 epsilon: 0.5392414000151697 memory size: 100000\n",
      "Episode 2290 reward: 2.2637362637362637 frame_count: 513907 epsilon: 0.5374837000152276 memory size: 100000\n",
      "Episode 2300 reward: 2.1648351648351647 frame_count: 516249 epsilon: 0.535375900015297 memory size: 100000\n",
      "Episode 2310 reward: 2.2967032967032965 frame_count: 519065 epsilon: 0.5328415000153804 memory size: 100000\n",
      "Episode 2320 reward: 2.208791208791209 frame_count: 521459 epsilon: 0.5306869000154514 memory size: 100000\n",
      "Episode 2330 reward: 2.098901098901099 frame_count: 523968 epsilon: 0.5284288000155257 memory size: 100000\n",
      "Episode 2340 reward: 2.142857142857143 frame_count: 526433 epsilon: 0.5262103000155988 memory size: 100000\n",
      "Episode 2350 reward: 2.098901098901099 frame_count: 528428 epsilon: 0.5244148000156579 memory size: 100000\n",
      "Episode 2360 reward: 1.967032967032967 frame_count: 530667 epsilon: 0.5223997000157242 memory size: 100000\n",
      "Episode 2370 reward: 1.934065934065934 frame_count: 532717 epsilon: 0.520554700015785 memory size: 100000\n",
      "Episode 2380 reward: 2.065934065934066 frame_count: 535004 epsilon: 0.5184964000158527 memory size: 100000\n",
      "Episode 2390 reward: 2.0549450549450547 frame_count: 537282 epsilon: 0.5164462000159202 memory size: 100000\n",
      "Episode 2400 reward: 1.901098901098901 frame_count: 539378 epsilon: 0.5145598000159823 memory size: 100000\n",
      "Episode 2410 reward: 1.8241758241758241 frame_count: 541411 epsilon: 0.5127301000160426 memory size: 100000\n",
      "Episode 2420 reward: 1.6923076923076923 frame_count: 543479 epsilon: 0.5108689000161039 memory size: 100000\n",
      "Episode 2430 reward: 1.5714285714285714 frame_count: 545313 epsilon: 0.5092183000161582 memory size: 100000\n",
      "Episode 2440 reward: 1.6043956043956045 frame_count: 547596 epsilon: 0.5071636000162258 memory size: 100000\n",
      "Episode 2450 reward: 1.5164835164835164 frame_count: 549495 epsilon: 0.5054545000162821 memory size: 100000\n",
      "Episode 2460 reward: 1.6153846153846154 frame_count: 551848 epsilon: 0.5033368000163518 memory size: 100000\n",
      "Episode 2470 reward: 1.5274725274725274 frame_count: 553966 epsilon: 0.5014306000164146 memory size: 100000\n",
      "Episode 2480 reward: 1.4065934065934067 frame_count: 555881 epsilon: 0.49970710001645324 memory size: 100000\n",
      "Episode 2490 reward: 1.4175824175824177 frame_count: 558116 epsilon: 0.4976956000163954 memory size: 100000\n",
      "Episode 2500 reward: 1.4285714285714286 frame_count: 560126 epsilon: 0.4958866000163434 memory size: 100000\n",
      "Episode 2510 reward: 1.3736263736263736 frame_count: 562150 epsilon: 0.494065000016291 memory size: 100000\n",
      "Episode 2520 reward: 1.4725274725274726 frame_count: 564378 epsilon: 0.49205980001623334 memory size: 100000\n",
      "Episode 2530 reward: 1.4175824175824177 frame_count: 566467 epsilon: 0.4901797000161793 memory size: 100000\n",
      "Episode 2540 reward: 1.4615384615384615 frame_count: 568475 epsilon: 0.4883725000161273 memory size: 100000\n",
      "Episode 2550 reward: 1.4395604395604396 frame_count: 570898 epsilon: 0.4861918000160646 memory size: 100000\n",
      "Episode 2560 reward: 1.4175824175824177 frame_count: 572860 epsilon: 0.4844260000160138 memory size: 100000\n",
      "Episode 2570 reward: 1.4285714285714286 frame_count: 574847 epsilon: 0.4826377000159624 memory size: 100000\n",
      "Episode 2580 reward: 1.3406593406593406 frame_count: 576682 epsilon: 0.4809862000159149 memory size: 100000\n",
      "Episode 2590 reward: 1.3296703296703296 frame_count: 578691 epsilon: 0.4791781000158629 memory size: 100000\n",
      "Episode 2600 reward: 1.2307692307692308 frame_count: 580384 epsilon: 0.4776544000158191 memory size: 100000\n",
      "Episode 2610 reward: 1.1758241758241759 frame_count: 582325 epsilon: 0.47590750001576887 memory size: 100000\n",
      "Episode 2620 reward: 1.1758241758241759 frame_count: 584391 epsilon: 0.4740481000157154 memory size: 100000\n",
      "Episode 2630 reward: 1.2197802197802199 frame_count: 586503 epsilon: 0.47214730001566074 memory size: 100000\n",
      "Episode 2640 reward: 1.0769230769230769 frame_count: 588410 epsilon: 0.4704310000156114 memory size: 100000\n",
      "Episode 2650 reward: 1.0879120879120878 frame_count: 590496 epsilon: 0.4685536000155574 memory size: 100000\n",
      "Episode 2660 reward: 1.0879120879120878 frame_count: 592410 epsilon: 0.46683100001550787 memory size: 100000\n",
      "Episode 2670 reward: 1.1758241758241759 frame_count: 594553 epsilon: 0.4649023000154524 memory size: 100000\n",
      "Episode 2680 reward: 1.098901098901099 frame_count: 596420 epsilon: 0.4632220000154041 memory size: 100000\n",
      "Episode 2690 reward: 1.2307692307692308 frame_count: 598505 epsilon: 0.46134550001535013 memory size: 100000\n",
      "Episode 2700 reward: 1.2527472527472527 frame_count: 600529 epsilon: 0.45952390001529775 memory size: 100000\n",
      "Episode 2710 reward: 1.164835164835165 frame_count: 602216 epsilon: 0.4580056000152541 memory size: 100000\n",
      "Episode 2720 reward: 1.2197802197802199 frame_count: 604542 epsilon: 0.4559122000151939 memory size: 100000\n",
      "Episode 2730 reward: 1.1868131868131868 frame_count: 606402 epsilon: 0.45423820001514575 memory size: 100000\n",
      "Episode 2740 reward: 1.1318681318681318 frame_count: 608260 epsilon: 0.45256600001509767 memory size: 100000\n",
      "Episode 2750 reward: 1.10989010989011 frame_count: 610164 epsilon: 0.4508524000150484 memory size: 100000\n",
      "Episode 2760 reward: 1.1538461538461537 frame_count: 612214 epsilon: 0.44900740001499534 memory size: 100000\n",
      "Episode 2770 reward: 1.098901098901099 frame_count: 613972 epsilon: 0.44742520001494984 memory size: 100000\n",
      "Episode 2780 reward: 1.065934065934066 frame_count: 616154 epsilon: 0.44546140001489337 memory size: 100000\n",
      "Episode 2790 reward: 1.010989010989011 frame_count: 618020 epsilon: 0.4437820000148451 memory size: 100000\n",
      "Episode 2800 reward: 1.054945054945055 frame_count: 620007 epsilon: 0.44199370001479366 memory size: 100000\n",
      "Episode 2810 reward: 1.054945054945055 frame_count: 622305 epsilon: 0.4399255000147342 memory size: 100000\n",
      "Episode 2820 reward: 1.010989010989011 frame_count: 624093 epsilon: 0.4383163000146879 memory size: 100000\n",
      "Episode 2830 reward: 1.0 frame_count: 625835 epsilon: 0.4367485000146428 memory size: 100000\n",
      "Episode 2840 reward: 1.032967032967033 frame_count: 627889 epsilon: 0.43489990001458967 memory size: 100000\n",
      "Episode 2850 reward: 1.0769230769230769 frame_count: 630222 epsilon: 0.4328002000145293 memory size: 100000\n",
      "Episode 2860 reward: 1.1428571428571428 frame_count: 632263 epsilon: 0.43096330001447647 memory size: 100000\n",
      "Episode 2870 reward: 1.1428571428571428 frame_count: 634382 epsilon: 0.42905620001442163 memory size: 100000\n",
      "Episode 2880 reward: 1.1538461538461537 frame_count: 636375 epsilon: 0.42726250001437005 memory size: 100000\n",
      "Episode 2890 reward: 1.164835164835165 frame_count: 638364 epsilon: 0.4254724000143186 memory size: 100000\n",
      "Episode 2900 reward: 1.1538461538461537 frame_count: 640523 epsilon: 0.4235293000142627 memory size: 100000\n",
      "Episode 2910 reward: 1.2747252747252746 frame_count: 642613 epsilon: 0.4216483000142086 memory size: 100000\n",
      "Episode 2920 reward: 1.3626373626373627 frame_count: 644596 epsilon: 0.4198636000141573 memory size: 100000\n",
      "Episode 2930 reward: 1.3736263736263736 frame_count: 646752 epsilon: 0.4179232000141015 memory size: 100000\n",
      "Episode 2940 reward: 1.3516483516483517 frame_count: 648887 epsilon: 0.41600170001404624 memory size: 100000\n",
      "Episode 2950 reward: 1.3626373626373627 frame_count: 651283 epsilon: 0.41384530001398423 memory size: 100000\n",
      "Episode 2960 reward: 1.3406593406593406 frame_count: 653405 epsilon: 0.4119355000139293 memory size: 100000\n",
      "Episode 2970 reward: 1.3626373626373627 frame_count: 655467 epsilon: 0.41007970001387595 memory size: 100000\n",
      "Episode 2980 reward: 1.4285714285714286 frame_count: 657486 epsilon: 0.4082626000138237 memory size: 100000\n",
      "Episode 2990 reward: 1.2857142857142858 frame_count: 659211 epsilon: 0.40671010001377905 memory size: 100000\n",
      "Episode 3000 reward: 1.2417582417582418 frame_count: 661269 epsilon: 0.4048579000137258 memory size: 100000\n",
      "Episode 3010 reward: 1.2087912087912087 frame_count: 663269 epsilon: 0.40305790001367403 memory size: 100000\n",
      "Episode 3020 reward: 1.1978021978021978 frame_count: 665234 epsilon: 0.4012894000136232 memory size: 100000\n",
      "Episode 3030 reward: 1.1428571428571428 frame_count: 667075 epsilon: 0.39963250001357553 memory size: 100000\n",
      "Episode 3040 reward: 1.0879120879120878 frame_count: 669073 epsilon: 0.3978343000135238 memory size: 100000\n",
      "Episode 3050 reward: 1.021978021978022 frame_count: 670918 epsilon: 0.3961738000134761 memory size: 100000\n",
      "Episode 3060 reward: 0.9560439560439561 frame_count: 672824 epsilon: 0.39445840001342675 memory size: 100000\n",
      "Episode 3070 reward: 0.8901098901098901 frame_count: 674764 epsilon: 0.39271240001337654 memory size: 100000\n",
      "Episode 3080 reward: 0.9120879120879121 frame_count: 676769 epsilon: 0.39090790001332465 memory size: 100000\n",
      "Episode 3090 reward: 0.8681318681318682 frame_count: 678746 epsilon: 0.3891286000132735 memory size: 100000\n",
      "Episode 3100 reward: 0.9340659340659341 frame_count: 680876 epsilon: 0.38721160001321836 memory size: 100000\n",
      "Episode 3110 reward: 0.9230769230769231 frame_count: 683075 epsilon: 0.38523250001316145 memory size: 100000\n",
      "Episode 3120 reward: 0.989010989010989 frame_count: 685132 epsilon: 0.3833812000131082 memory size: 100000\n",
      "Episode 3130 reward: 0.9340659340659341 frame_count: 687098 epsilon: 0.38161180001305733 memory size: 100000\n",
      "Episode 3140 reward: 0.9560439560439561 frame_count: 689061 epsilon: 0.37984510001300653 memory size: 100000\n",
      "Episode 3150 reward: 1.0 frame_count: 691189 epsilon: 0.37792990001295146 memory size: 100000\n",
      "Episode 3160 reward: 0.989010989010989 frame_count: 693152 epsilon: 0.37616320001290066 memory size: 100000\n",
      "Episode 3170 reward: 1.032967032967033 frame_count: 695259 epsilon: 0.3742669000128461 memory size: 100000\n",
      "Episode 3180 reward: 1.065934065934066 frame_count: 697239 epsilon: 0.3724849000127949 memory size: 100000\n",
      "Episode 3190 reward: 1.2417582417582418 frame_count: 699263 epsilon: 0.3706633000127425 memory size: 100000\n",
      "Episode 3200 reward: 1.10989010989011 frame_count: 701170 epsilon: 0.36894700001269315 memory size: 100000\n",
      "Episode 3210 reward: 1.0879120879120878 frame_count: 703123 epsilon: 0.3671893000126426 memory size: 100000\n",
      "Episode 3220 reward: 1.1318681318681318 frame_count: 705249 epsilon: 0.3652759000125876 memory size: 100000\n",
      "Episode 3230 reward: 1.10989010989011 frame_count: 707130 epsilon: 0.3635830000125389 memory size: 100000\n",
      "Episode 3240 reward: 1.0879120879120878 frame_count: 709240 epsilon: 0.3616840000124843 memory size: 100000\n",
      "Episode 3250 reward: 1.1868131868131868 frame_count: 711433 epsilon: 0.35971030001242754 memory size: 100000\n",
      "Episode 3260 reward: 1.120879120879121 frame_count: 713241 epsilon: 0.35808310001238075 memory size: 100000\n",
      "Episode 3270 reward: 1.054945054945055 frame_count: 715179 epsilon: 0.3563389000123306 memory size: 100000\n",
      "Episode 3280 reward: 0.989010989010989 frame_count: 717315 epsilon: 0.3544165000122753 memory size: 100000\n",
      "Episode 3290 reward: 0.989010989010989 frame_count: 719527 epsilon: 0.35242570001221807 memory size: 100000\n",
      "Episode 3300 reward: 1.021978021978022 frame_count: 721752 epsilon: 0.3504232000121605 memory size: 100000\n",
      "Episode 3310 reward: 1.0879120879120878 frame_count: 724013 epsilon: 0.34838830001210197 memory size: 100000\n",
      "Episode 3320 reward: 1.10989010989011 frame_count: 725838 epsilon: 0.34674580001205474 memory size: 100000\n",
      "Episode 3330 reward: 1.1538461538461537 frame_count: 727966 epsilon: 0.34483060001199967 memory size: 100000\n",
      "Episode 3340 reward: 1.1978021978021978 frame_count: 730139 epsilon: 0.34287490001194343 memory size: 100000\n",
      "Episode 3350 reward: 1.3076923076923077 frame_count: 732251 epsilon: 0.34097410001188877 memory size: 100000\n",
      "Episode 3360 reward: 1.5384615384615385 frame_count: 734902 epsilon: 0.33858820001182016 memory size: 100000\n",
      "Episode 3370 reward: 1.7802197802197801 frame_count: 737847 epsilon: 0.33593770001174394 memory size: 100000\n",
      "Episode 3380 reward: 1.7912087912087913 frame_count: 740111 epsilon: 0.33390010001168535 memory size: 100000\n",
      "Episode 3390 reward: 1.7252747252747254 frame_count: 741951 epsilon: 0.33224410001163773 memory size: 100000\n",
      "Episode 3400 reward: 1.7032967032967032 frame_count: 744274 epsilon: 0.3301534000115776 memory size: 100000\n",
      "Episode 3410 reward: 1.8571428571428572 frame_count: 746895 epsilon: 0.3277945000115098 memory size: 100000\n",
      "Episode 3420 reward: 1.8461538461538463 frame_count: 748745 epsilon: 0.3261295000114619 memory size: 100000\n",
      "Episode 3430 reward: 1.7912087912087913 frame_count: 751028 epsilon: 0.3240748000114028 memory size: 100000\n",
      "Episode 3440 reward: 1.7692307692307692 frame_count: 753252 epsilon: 0.32207320001134526 memory size: 100000\n",
      "Episode 3450 reward: 1.6593406593406594 frame_count: 755510 epsilon: 0.3200410000112868 memory size: 100000\n",
      "Episode 3460 reward: 1.4065934065934067 frame_count: 757732 epsilon: 0.3180412000112293 memory size: 100000\n",
      "Episode 3470 reward: 1.4065934065934067 frame_count: 759932 epsilon: 0.3160612000111724 memory size: 100000\n",
      "Episode 3480 reward: 1.6483516483516483 frame_count: 762492 epsilon: 0.31375720001110613 memory size: 100000\n",
      "Episode 3490 reward: 1.6923076923076923 frame_count: 764809 epsilon: 0.31167190001104617 memory size: 100000\n",
      "Episode 3500 reward: 1.4615384615384615 frame_count: 766698 epsilon: 0.3099718000109973 memory size: 100000\n",
      "Episode 3510 reward: 1.5824175824175823 frame_count: 769009 epsilon: 0.30789190001093747 memory size: 100000\n",
      "Episode 3520 reward: 1.5604395604395604 frame_count: 771282 epsilon: 0.30584620001087864 memory size: 100000\n",
      "Episode 3530 reward: 1.6593406593406594 frame_count: 773632 epsilon: 0.3037312000108178 memory size: 100000\n",
      "Episode 3540 reward: 1.7472527472527473 frame_count: 776021 epsilon: 0.301581100010756 memory size: 100000\n",
      "Episode 3550 reward: 1.7472527472527473 frame_count: 778260 epsilon: 0.29956600001069805 memory size: 100000\n",
      "Episode 3560 reward: 1.8021978021978022 frame_count: 780487 epsilon: 0.2975617000106404 memory size: 100000\n",
      "Episode 3570 reward: 1.6483516483516483 frame_count: 782736 epsilon: 0.2955376000105822 memory size: 100000\n",
      "Episode 3580 reward: 1.7362637362637363 frame_count: 785579 epsilon: 0.29297890001050864 memory size: 100000\n",
      "Episode 3590 reward: 1.8571428571428572 frame_count: 787827 epsilon: 0.29095570001045046 memory size: 100000\n",
      "Episode 3600 reward: 2.043956043956044 frame_count: 790400 epsilon: 0.28864000001038387 memory size: 100000\n",
      "Episode 3610 reward: 1.8681318681318682 frame_count: 792541 epsilon: 0.28671310001032846 memory size: 100000\n",
      "Episode 3620 reward: 1.7362637362637363 frame_count: 794498 epsilon: 0.2849518000102778 memory size: 100000\n",
      "Episode 3630 reward: 1.7802197802197801 frame_count: 796860 epsilon: 0.2828260000102167 memory size: 100000\n",
      "Episode 3640 reward: 1.6153846153846154 frame_count: 798759 epsilon: 0.28111690001016754 memory size: 100000\n",
      "Episode 3650 reward: 1.7362637362637363 frame_count: 801543 epsilon: 0.2786113000100955 memory size: 100000\n",
      "Episode 3660 reward: 1.7912087912087913 frame_count: 803858 epsilon: 0.2765278000100356 memory size: 100000\n",
      "Episode 3670 reward: 1.8131868131868132 frame_count: 806591 epsilon: 0.27406810000996484 memory size: 100000\n",
      "Episode 3680 reward: 1.8461538461538463 frame_count: 808863 epsilon: 0.27202330000990604 memory size: 100000\n",
      "Episode 3690 reward: 1.8461538461538463 frame_count: 811686 epsilon: 0.269482600009833 memory size: 100000\n",
      "Episode 3700 reward: 2.10989010989011 frame_count: 814519 epsilon: 0.26693290000975967 memory size: 100000\n",
      "Episode 3710 reward: 2.208791208791209 frame_count: 816974 epsilon: 0.26472340000969613 memory size: 100000\n",
      "Episode 3720 reward: 2.21978021978022 frame_count: 819341 epsilon: 0.26259310000963487 memory size: 100000\n",
      "Episode 3730 reward: 2.4615384615384617 frame_count: 822085 epsilon: 0.26012350000956386 memory size: 100000\n",
      "Episode 3740 reward: 2.3516483516483517 frame_count: 824112 epsilon: 0.2582992000095114 memory size: 100000\n",
      "Episode 3750 reward: 2.4505494505494507 frame_count: 826728 epsilon: 0.2559448000094437 memory size: 100000\n",
      "Episode 3760 reward: 2.3076923076923075 frame_count: 829319 epsilon: 0.25361290000937664 memory size: 100000\n",
      "Episode 3770 reward: 2.318681318681319 frame_count: 831743 epsilon: 0.2514313000093139 memory size: 100000\n",
      "Episode 3780 reward: 2.230769230769231 frame_count: 834202 epsilon: 0.2492182000092744 memory size: 100000\n",
      "Episode 3790 reward: 2.1538461538461537 frame_count: 836937 epsilon: 0.24675670000927952 memory size: 100000\n",
      "Episode 3800 reward: 2.2857142857142856 frame_count: 839685 epsilon: 0.24428350000928467 memory size: 100000\n",
      "Episode 3810 reward: 2.4065934065934065 frame_count: 842651 epsilon: 0.24161410000929023 memory size: 100000\n",
      "Episode 3820 reward: 2.6153846153846154 frame_count: 845763 epsilon: 0.23881330000929607 memory size: 100000\n",
      "Episode 3830 reward: 2.6923076923076925 frame_count: 848412 epsilon: 0.23642920000930104 memory size: 100000\n",
      "Episode 3840 reward: 2.6483516483516483 frame_count: 850828 epsilon: 0.23425480000930557 memory size: 100000\n",
      "Episode 3850 reward: 2.6263736263736264 frame_count: 853403 epsilon: 0.2319373000093104 memory size: 100000\n"
     ]
    },
    {
     "ename": "KeyboardInterrupt",
     "evalue": "",
     "output_type": "error",
     "traceback": [
      "\u001b[0;31m---------------------------------------------------------------------------\u001b[0m",
      "\u001b[0;31mKeyboardInterrupt\u001b[0m                         Traceback (most recent call last)",
      "\u001b[1;32m/home/coartix/S9-EPITA/Reinforcement Learning/DQN-Atari/torch_DQL.ipynb Cell 13\u001b[0m line \u001b[0;36m1\n\u001b[1;32m     <a href='vscode-notebook-cell:/home/coartix/S9-EPITA/Reinforcement%20Learning/DQN-Atari/torch_DQL.ipynb#X15sZmlsZQ%3D%3D?line=13'>14</a>\u001b[0m \u001b[39mwith\u001b[39;00m torch\u001b[39m.\u001b[39mno_grad():\n\u001b[1;32m     <a href='vscode-notebook-cell:/home/coartix/S9-EPITA/Reinforcement%20Learning/DQN-Atari/torch_DQL.ipynb#X15sZmlsZQ%3D%3D?line=14'>15</a>\u001b[0m     state \u001b[39m=\u001b[39m np\u001b[39m.\u001b[39marray(state, dtype\u001b[39m=\u001b[39mnp\u001b[39m.\u001b[39muint8)\n\u001b[0;32m---> <a href='vscode-notebook-cell:/home/coartix/S9-EPITA/Reinforcement%20Learning/DQN-Atari/torch_DQL.ipynb#X15sZmlsZQ%3D%3D?line=15'>16</a>\u001b[0m     q_values \u001b[39m=\u001b[39m model(torch\u001b[39m.\u001b[39;49mtensor(state)\u001b[39m.\u001b[39;49munsqueeze(\u001b[39m0\u001b[39;49m)\u001b[39m.\u001b[39;49mfloat()\u001b[39m.\u001b[39;49mto(device))\n\u001b[1;32m     <a href='vscode-notebook-cell:/home/coartix/S9-EPITA/Reinforcement%20Learning/DQN-Atari/torch_DQL.ipynb#X15sZmlsZQ%3D%3D?line=16'>17</a>\u001b[0m     action \u001b[39m=\u001b[39m torch\u001b[39m.\u001b[39margmax(q_values)\u001b[39m.\u001b[39mitem()\n\u001b[1;32m     <a href='vscode-notebook-cell:/home/coartix/S9-EPITA/Reinforcement%20Learning/DQN-Atari/torch_DQL.ipynb#X15sZmlsZQ%3D%3D?line=17'>18</a>\u001b[0m     action \u001b[39m=\u001b[39m np\u001b[39m.\u001b[39muint8(action)\n",
      "\u001b[0;31mKeyboardInterrupt\u001b[0m: "
     ]
    }
   ],
   "source": [
    "while True:\n",
    "    env.reset()\n",
    "    state, _, done, _, _ = env.step(0)\n",
    "    state = np.array(state, dtype=np.uint8)\n",
    "    episode_reward = 0\n",
    "\n",
    "    for timestep in range(1, max_steps_per_episode):\n",
    "        frame_count += 1\n",
    "\n",
    "        if frame_count < epsilon_random_frames or epsilon > np.random.rand(1):\n",
    "            action = np.random.choice(num_actions)\n",
    "            action = np.uint8(action)\n",
    "        else:\n",
    "            with torch.no_grad():\n",
    "                state = np.array(state, dtype=np.uint8)\n",
    "                q_values = model(torch.tensor(state).unsqueeze(0).float().to(device))\n",
    "                action = torch.argmax(q_values).item()\n",
    "                action = np.uint8(action)\n",
    "\n",
    "        if epsilon > epsilon_min:\n",
    "            epsilon -= epsilon_interval / epsilon_greedy_frames\n",
    "            epsilon = max(epsilon, epsilon_min)\n",
    "\n",
    "        next_state, reward, done, e, f = env.step(action)\n",
    "        next_state =  np.array(next_state, dtype=np.uint8)\n",
    "        episode_reward += reward\n",
    "\n",
    "        replay_buffer.add(state, action, reward, next_state, done)\n",
    "        state = next_state\n",
    "\n",
    "        if len(replay_buffer) > batch_size:\n",
    "            states, actions, rewards, next_states, dones = replay_buffer.sample(batch_size)\n",
    "\n",
    "            future_rewards = model_target(next_states).max(1)[0]\n",
    "            updated_q_values = rewards + gamma * future_rewards * (1 - dones)\n",
    "\n",
    "            current_q_values = model(states)\n",
    "            selected_q_values = current_q_values.gather(1, actions.unsqueeze(1)).squeeze(1)\n",
    "\n",
    "            loss = loss_function(updated_q_values, selected_q_values)\n",
    "\n",
    "            optimizer.zero_grad()\n",
    "            loss.backward()\n",
    "            optimizer.step()\n",
    "\n",
    "        # To avoid biais de sur-estimation update the target network every update_target_network steps\n",
    "        if frame_count % update_target_network == 0:\n",
    "            model_target.load_state_dict(model.state_dict())\n",
    "\n",
    "        if done:\n",
    "            break\n",
    "\n",
    "    episode_reward_history = np.append(episode_reward_history, episode_reward)\n",
    "    running_reward = np.mean(episode_reward_history)\n",
    "\n",
    "    if episode_count % 10 == 0:\n",
    "        if len(episode_reward_history) > 100:\n",
    "            episode_reward_history = np.delete(episode_reward_history, np.s_[:10])\n",
    "        running_reward = np.mean(episode_reward_history)\n",
    "        print(\"Episode {} reward: {} frame_count: {} epsilon: {} memory size: {}\".format(episode_count, running_reward, frame_count, epsilon, len(replay_buffer)))\n",
    "        reward_history = np.append(reward_history, running_reward)\n",
    "        frame_count_history = np.append(frame_count_history, frame_count)\n",
    "        epsilon_history = np.append(epsilon_history, epsilon)\n",
    "\n",
    "    if running_reward > 5 and running_reward > best_reward:\n",
    "        best_reward = running_reward\n",
    "        torch.save(model.state_dict(), f\"models/model_rew_{round(running_reward)}.pth\")\n",
    "\n",
    "    if running_reward > 40:\n",
    "        print(\"Solved at episode {}!\".format(episode_count))\n",
    "        break\n",
    "\n",
    "    episode_count += 1"
   ]
  },
  {
   "cell_type": "markdown",
   "metadata": {},
   "source": [
    "Lets look at the evolution of the reward over the time steps:"
   ]
  },
  {
   "cell_type": "code",
   "execution_count": 8,
   "metadata": {},
   "outputs": [
    {
     "data": {
      "image/png": "[encoded data removed]",
      "text/plain": [
       "<Figure size 2000x500 with 1 Axes>"
      ]
     },
     "metadata": {},
     "output_type": "display_data"
    }
   ],
   "source": [
    "from matplotlib import pyplot as plt\n",
    "\n",
    "plt.figure(figsize=(20,5))\n",
    "plt.plot(frame_count_history, reward_history)\n",
    "plt.plot(frame_count_history, epsilon_history)\n",
    "plt.title('Reward history and epsilon history over frame_count')\n",
    "plt.xlabel('frame_count')\n",
    "plt.legend(['reward', 'epsilon'], loc='upper left')\n",
    "plt.show()"
   ]
  },
  {
   "cell_type": "markdown",
   "metadata": {},
   "source": [
    "#### Section to save the video of the agent playing the game through the different models"
   ]
  },
  {
   "cell_type": "code",
   "execution_count": 9,
   "metadata": {},
   "outputs": [],
   "source": [
    "torch.save(model.state_dict(), 'models/model_weights.pth')"
   ]
  },
  {
   "cell_type": "code",
   "execution_count": 14,
   "metadata": {},
   "outputs": [
    {
     "name": "stdout",
     "output_type": "stream",
     "text": [
      "Moviepy - Building video videos/video.mp4.\n",
      "Moviepy - Writing video videos/video.mp4\n",
      "\n"
     ]
    },
    {
     "name": "stderr",
     "output_type": "stream",
     "text": [
      "                                                                 "
     ]
    },
    {
     "name": "stdout",
     "output_type": "stream",
     "text": [
      "Moviepy - Done !\n",
      "Moviepy - video ready videos/video.mp4\n"
     ]
    },
    {
     "name": "stderr",
     "output_type": "stream",
     "text": [
      "\r"
     ]
    },
    {
     "data": {
      "text/plain": [
       "0.0"
      ]
     },
     "execution_count": 14,
     "metadata": {},
     "output_type": "execute_result"
    }
   ],
   "source": [
    "env = gym.make('BreakoutNoFrameskip-v4', render_mode='rgb_array')\n",
    "env = gym.wrappers.AtariPreprocessing(env, frame_skip=4, grayscale_obs=True, scale_obs=True, noop_max=30)\n",
    "env = gym.wrappers.FrameStack(env, num_stack=4)\n",
    "create_video(env, model, device, folder=\"videos\", name=\"video\")"
   ]
  },
  {
   "cell_type": "markdown",
   "metadata": {},
   "source": [
    "Using best model:"
   ]
  },
  {
   "cell_type": "code",
   "execution_count": null,
   "metadata": {},
   "outputs": [
    {
     "name": "stdout",
     "output_type": "stream",
     "text": [
      "Moviepy - Building video videos/best2.mp4.\n",
      "Moviepy - Writing video videos/best2.mp4\n",
      "\n"
     ]
    },
    {
     "name": "stderr",
     "output_type": "stream",
     "text": [
      "                                                                "
     ]
    },
    {
     "name": "stdout",
     "output_type": "stream",
     "text": [
      "Moviepy - Done !\n",
      "Moviepy - video ready videos/best2.mp4\n",
      "Reward : 46.0\n"
     ]
    },
    {
     "name": "stderr",
     "output_type": "stream",
     "text": [
      "\r"
     ]
    }
   ],
   "source": [
    "model = DQN((4,84,84), num_actions).to(device)\n",
    "model.load_state_dict(torch.load(\"models/model_rew_27.pth\"))\n",
    "\n",
    "env = gym.make('BreakoutNoFrameskip-v4', render_mode='rgb_array')\n",
    "env = gym.wrappers.AtariPreprocessing(env, frame_skip=4, grayscale_obs=True, scale_obs=True, noop_max=30)\n",
    "env = gym.wrappers.FrameStack(env, num_stack=4)\n",
    "r = create_video(env, model, device, folder=\"videos\", name=\"best2\")\n",
    "print(f\"Reward : {r}\")"
   ]
  }
 ],
 "metadata": {
  "kernelspec": {
   "display_name": "Python 3",
   "language": "python",
   "name": "python3"
  },
  "language_info": {
   "codemirror_mode": {
    "name": "ipython",
    "version": 3
   },
   "file_extension": ".py",
   "mimetype": "text/x-python",
   "name": "python",
   "nbconvert_exporter": "python",
   "pygments_lexer": "ipython3",
   "version": "3.10.12"
  }
 },
 "nbformat": 4,
 "nbformat_minor": 2
}
