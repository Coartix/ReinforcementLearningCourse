{
 "cells": [
  {
   "cell_type": "code",
   "execution_count": 4,
   "metadata": {},
   "outputs": [],
   "source": [
    "from DQN import *\n",
    "from QNN import *\n",
    "\n",
    "import gymnasium as gym\n",
    "import numpy as np\n",
    "from torchvision import transforms"
   ]
  },
  {
   "cell_type": "code",
   "execution_count": 5,
   "metadata": {},
   "outputs": [],
   "source": [
    "# Define a preprocessing function that resizes and normalizes the state\n",
    "def preprocess_state(state):\n",
    "    preprocess = transforms.Compose([\n",
    "        transforms.ToPILImage(),\n",
    "        transforms.Resize((84, 84, 4)),\n",
    "        transforms.Grayscale(num_output_channels=4),\n",
    "        transforms.ToTensor()\n",
    "    ])\n",
    "    return preprocess(state)"
   ]
  },
  {
   "cell_type": "code",
   "execution_count": 6,
   "metadata": {},
   "outputs": [
    {
     "ename": "ValueError",
     "evalue": "If size is a sequence, it should have 1 or 2 values",
     "output_type": "error",
     "traceback": [
      "\u001b[0;31m---------------------------------------------------------------------------\u001b[0m",
      "\u001b[0;31mValueError\u001b[0m                                Traceback (most recent call last)",
      "\u001b[1;32m/home/coartix/S9-EPITA/Reinforcement Learning/DQN-Atari/DeepQLearning.ipynb Cell 3\u001b[0m line \u001b[0;36m1\n\u001b[1;32m     <a href='vscode-notebook-cell:/home/coartix/S9-EPITA/Reinforcement%20Learning/DQN-Atari/DeepQLearning.ipynb#W2sZmlsZQ%3D%3D?line=14'>15</a>\u001b[0m rew \u001b[39m=\u001b[39m \u001b[39m0\u001b[39m\n\u001b[1;32m     <a href='vscode-notebook-cell:/home/coartix/S9-EPITA/Reinforcement%20Learning/DQN-Atari/DeepQLearning.ipynb#W2sZmlsZQ%3D%3D?line=15'>16</a>\u001b[0m state, _ \u001b[39m=\u001b[39m env\u001b[39m.\u001b[39mreset()\n\u001b[0;32m---> <a href='vscode-notebook-cell:/home/coartix/S9-EPITA/Reinforcement%20Learning/DQN-Atari/DeepQLearning.ipynb#W2sZmlsZQ%3D%3D?line=16'>17</a>\u001b[0m state \u001b[39m=\u001b[39m preprocess_state(state)\n\u001b[1;32m     <a href='vscode-notebook-cell:/home/coartix/S9-EPITA/Reinforcement%20Learning/DQN-Atari/DeepQLearning.ipynb#W2sZmlsZQ%3D%3D?line=17'>18</a>\u001b[0m \u001b[39mprint\u001b[39m(state\u001b[39m.\u001b[39mshape, \u001b[39m'\u001b[39m\u001b[39min notebook\u001b[39m\u001b[39m'\u001b[39m)\n\u001b[1;32m     <a href='vscode-notebook-cell:/home/coartix/S9-EPITA/Reinforcement%20Learning/DQN-Atari/DeepQLearning.ipynb#W2sZmlsZQ%3D%3D?line=18'>19</a>\u001b[0m \u001b[39mfor\u001b[39;00m t \u001b[39min\u001b[39;00m \u001b[39mrange\u001b[39m(num_timesteps):\n",
      "\u001b[1;32m/home/coartix/S9-EPITA/Reinforcement Learning/DQN-Atari/DeepQLearning.ipynb Cell 3\u001b[0m line \u001b[0;36m5\n\u001b[1;32m      <a href='vscode-notebook-cell:/home/coartix/S9-EPITA/Reinforcement%20Learning/DQN-Atari/DeepQLearning.ipynb#W2sZmlsZQ%3D%3D?line=1'>2</a>\u001b[0m \u001b[39mdef\u001b[39;00m \u001b[39mpreprocess_state\u001b[39m(state):\n\u001b[1;32m      <a href='vscode-notebook-cell:/home/coartix/S9-EPITA/Reinforcement%20Learning/DQN-Atari/DeepQLearning.ipynb#W2sZmlsZQ%3D%3D?line=2'>3</a>\u001b[0m     preprocess \u001b[39m=\u001b[39m transforms\u001b[39m.\u001b[39mCompose([\n\u001b[1;32m      <a href='vscode-notebook-cell:/home/coartix/S9-EPITA/Reinforcement%20Learning/DQN-Atari/DeepQLearning.ipynb#W2sZmlsZQ%3D%3D?line=3'>4</a>\u001b[0m         transforms\u001b[39m.\u001b[39mToPILImage(),\n\u001b[0;32m----> <a href='vscode-notebook-cell:/home/coartix/S9-EPITA/Reinforcement%20Learning/DQN-Atari/DeepQLearning.ipynb#W2sZmlsZQ%3D%3D?line=4'>5</a>\u001b[0m         transforms\u001b[39m.\u001b[39;49mResize((\u001b[39m84\u001b[39;49m, \u001b[39m84\u001b[39;49m, \u001b[39m4\u001b[39;49m)),\n\u001b[1;32m      <a href='vscode-notebook-cell:/home/coartix/S9-EPITA/Reinforcement%20Learning/DQN-Atari/DeepQLearning.ipynb#W2sZmlsZQ%3D%3D?line=5'>6</a>\u001b[0m         transforms\u001b[39m.\u001b[39mGrayscale(num_output_channels\u001b[39m=\u001b[39m\u001b[39m4\u001b[39m),\n\u001b[1;32m      <a href='vscode-notebook-cell:/home/coartix/S9-EPITA/Reinforcement%20Learning/DQN-Atari/DeepQLearning.ipynb#W2sZmlsZQ%3D%3D?line=6'>7</a>\u001b[0m         transforms\u001b[39m.\u001b[39mToTensor()\n\u001b[1;32m      <a href='vscode-notebook-cell:/home/coartix/S9-EPITA/Reinforcement%20Learning/DQN-Atari/DeepQLearning.ipynb#W2sZmlsZQ%3D%3D?line=7'>8</a>\u001b[0m     ])\n\u001b[1;32m      <a href='vscode-notebook-cell:/home/coartix/S9-EPITA/Reinforcement%20Learning/DQN-Atari/DeepQLearning.ipynb#W2sZmlsZQ%3D%3D?line=8'>9</a>\u001b[0m     \u001b[39mreturn\u001b[39;00m preprocess(state)\n",
      "File \u001b[0;32m~/.local/lib/python3.10/site-packages/torchvision/transforms/transforms.py:343\u001b[0m, in \u001b[0;36mResize.__init__\u001b[0;34m(self, size, interpolation, max_size, antialias)\u001b[0m\n\u001b[1;32m    341\u001b[0m     \u001b[39mraise\u001b[39;00m \u001b[39mTypeError\u001b[39;00m(\u001b[39mf\u001b[39m\u001b[39m\"\u001b[39m\u001b[39mSize should be int or sequence. Got \u001b[39m\u001b[39m{\u001b[39;00m\u001b[39mtype\u001b[39m(size)\u001b[39m}\u001b[39;00m\u001b[39m\"\u001b[39m)\n\u001b[1;32m    342\u001b[0m \u001b[39mif\u001b[39;00m \u001b[39misinstance\u001b[39m(size, Sequence) \u001b[39mand\u001b[39;00m \u001b[39mlen\u001b[39m(size) \u001b[39mnot\u001b[39;00m \u001b[39min\u001b[39;00m (\u001b[39m1\u001b[39m, \u001b[39m2\u001b[39m):\n\u001b[0;32m--> 343\u001b[0m     \u001b[39mraise\u001b[39;00m \u001b[39mValueError\u001b[39;00m(\u001b[39m\"\u001b[39m\u001b[39mIf size is a sequence, it should have 1 or 2 values\u001b[39m\u001b[39m\"\u001b[39m)\n\u001b[1;32m    344\u001b[0m \u001b[39mself\u001b[39m\u001b[39m.\u001b[39msize \u001b[39m=\u001b[39m size\n\u001b[1;32m    345\u001b[0m \u001b[39mself\u001b[39m\u001b[39m.\u001b[39mmax_size \u001b[39m=\u001b[39m max_size\n",
      "\u001b[0;31mValueError\u001b[0m: If size is a sequence, it should have 1 or 2 values"
     ]
    }
   ],
   "source": [
    "# Define environment and hyperparameters\n",
    "env = gym.make('BreakoutNoFrameskip-v4', render_mode='rgb_array')\n",
    "state_size = (84, 84, 4)\n",
    "action_size = env.action_space.n\n",
    "num_episodes = 1000\n",
    "num_timesteps = 20000\n",
    "batch_size = 32\n",
    "dqn = DQN(state_size, action_size)\n",
    "\n",
    "# Training loop\n",
    "done = False\n",
    "time_step = 0\n",
    "\n",
    "for i in range(num_episodes):\n",
    "    rew = 0\n",
    "    state, _ = env.reset()\n",
    "    state = preprocess_state(state)\n",
    "    print(state.shape, 'in notebook')\n",
    "    for t in range(num_timesteps):\n",
    "        env.render()\n",
    "        time_step += 1\n",
    "        if time_step % dqn.update_rate == 0:\n",
    "            dqn.update_target_network()\n",
    "        action = dqn.epsilon_greedy(state)\n",
    "        next_state, reward, done, _, _= env.step(action)\n",
    "        next_state = preprocess_state(next_state)\n",
    "        dqn.store_transition(state, action, reward, next_state, done)\n",
    "        state = next_state\n",
    "        rew += reward\n",
    "        if done:\n",
    "            print('Episode:', i, ', Return:', rew)\n",
    "            break\n",
    "        dqn.train(batch_size)"
   ]
  },
  {
   "cell_type": "code",
   "execution_count": null,
   "metadata": {},
   "outputs": [],
   "source": []
  }
 ],
 "metadata": {
  "kernelspec": {
   "display_name": "Python 3",
   "language": "python",
   "name": "python3"
  },
  "language_info": {
   "codemirror_mode": {
    "name": "ipython",
    "version": 3
   },
   "file_extension": ".py",
   "mimetype": "text/x-python",
   "name": "python",
   "nbconvert_exporter": "python",
   "pygments_lexer": "ipython3",
   "version": "3.10.12"
  }
 },
 "nbformat": 4,
 "nbformat_minor": 2
}
